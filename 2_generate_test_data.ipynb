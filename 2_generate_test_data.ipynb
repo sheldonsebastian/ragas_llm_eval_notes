{
 "cells": [
  {
   "cell_type": "markdown",
   "id": "9bb5712c",
   "metadata": {},
   "source": [
    "- Automated generate test data\n",
    "\n",
    "- https://docs.ragas.io/en/stable/getstarted/rag_testset_generation"
   ]
  },
  {
   "cell_type": "code",
   "execution_count": null,
   "id": "faaaffa7",
   "metadata": {},
   "outputs": [],
   "source": [
    "from dotenv import load_dotenv\n",
    "from ragas.testset import TestsetGenerator\n",
    "from langchain_community.document_loaders import DirectoryLoader\n",
    "from ragas.llms.base import llm_factory\n",
    "from ragas.embeddings import OpenAIEmbeddings\n",
    "import openai\n",
    "import os"
   ]
  },
  {
   "cell_type": "code",
   "execution_count": 35,
   "id": "76c5e278",
   "metadata": {},
   "outputs": [
    {
     "data": {
      "text/plain": [
       "True"
      ]
     },
     "execution_count": 35,
     "metadata": {},
     "output_type": "execute_result"
    }
   ],
   "source": [
    "load_dotenv(\"configs.env\")"
   ]
  },
  {
   "cell_type": "code",
   "execution_count": 36,
   "id": "8403da77",
   "metadata": {},
   "outputs": [],
   "source": [
    "DATA_DIR_PATH = \"data_files\"\n",
    "OUTPUT_TEST_DATA_DIR = \"generated_test_data\""
   ]
  },
  {
   "cell_type": "code",
   "execution_count": 40,
   "id": "db6bc50b",
   "metadata": {},
   "outputs": [
    {
     "name": "stderr",
     "output_type": "stream",
     "text": [
      "libmagic is unavailable but assists in filetype detection. Please consider installing libmagic for better results.\n",
      "libmagic is unavailable but assists in filetype detection. Please consider installing libmagic for better results.\n"
     ]
    }
   ],
   "source": [
    "doc_files = DirectoryLoader(DATA_DIR_PATH, glob=\"**/*.txt\").load()"
   ]
  },
  {
   "cell_type": "code",
   "execution_count": 41,
   "id": "5803074d",
   "metadata": {},
   "outputs": [
    {
     "data": {
      "text/plain": [
       "2"
      ]
     },
     "execution_count": 41,
     "metadata": {},
     "output_type": "execute_result"
    }
   ],
   "source": [
    "len(doc_files)"
   ]
  },
  {
   "cell_type": "code",
   "execution_count": 42,
   "id": "94e2baf2",
   "metadata": {},
   "outputs": [],
   "source": [
    "generator_llm = llm_factory(\"gpt-4o-mini\")\n",
    "openai_client = openai.AsyncOpenAI()\n",
    "generator_embeddings = OpenAIEmbeddings(\n",
    "    client=openai_client, model=\"text-embedding-3-small\"\n",
    ")"
   ]
  },
  {
   "cell_type": "code",
   "execution_count": 43,
   "id": "0c73ad12",
   "metadata": {},
   "outputs": [],
   "source": [
    "generator = TestsetGenerator(llm=generator_llm, embedding_model=generator_embeddings)"
   ]
  },
  {
   "cell_type": "code",
   "execution_count": null,
   "id": "257a06a4",
   "metadata": {},
   "outputs": [
    {
     "data": {
      "application/vnd.jupyter.widget-view+json": {
       "model_id": "450d8f21c4a44b4caab964b49e823280",
       "version_major": 2,
       "version_minor": 0
      },
      "text/plain": [
       "Applying HeadlinesExtractor:   0%|          | 0/2 [00:00<?, ?it/s]"
      ]
     },
     "metadata": {},
     "output_type": "display_data"
    },
    {
     "data": {
      "application/vnd.jupyter.widget-view+json": {
       "model_id": "67c4968c7ad0433897c8849edea984d6",
       "version_major": 2,
       "version_minor": 0
      },
      "text/plain": [
       "Applying HeadlineSplitter:   0%|          | 0/2 [00:00<?, ?it/s]"
      ]
     },
     "metadata": {},
     "output_type": "display_data"
    },
    {
     "data": {
      "application/vnd.jupyter.widget-view+json": {
       "model_id": "c8c2e8ceb1c143169b790dbe110768bf",
       "version_major": 2,
       "version_minor": 0
      },
      "text/plain": [
       "Applying SummaryExtractor:   0%|          | 0/2 [00:00<?, ?it/s]"
      ]
     },
     "metadata": {},
     "output_type": "display_data"
    },
    {
     "data": {
      "application/vnd.jupyter.widget-view+json": {
       "model_id": "0d9378e970754dd193d4b1a0cd3954d3",
       "version_major": 2,
       "version_minor": 0
      },
      "text/plain": [
       "Applying CustomNodeFilter:   0%|          | 0/1034 [00:00<?, ?it/s]"
      ]
     },
     "metadata": {},
     "output_type": "display_data"
    }
   ],
   "source": [
    "dataset = generator.generate_with_langchain_docs(doc_files, testset_size=10)"
   ]
  },
  {
   "cell_type": "code",
   "execution_count": null,
   "id": "8863b365",
   "metadata": {},
   "outputs": [],
   "source": [
    "df = dataset.to_pandas()"
   ]
  },
  {
   "cell_type": "code",
   "execution_count": null,
   "id": "4e8f8136",
   "metadata": {},
   "outputs": [],
   "source": [
    "df.shape"
   ]
  },
  {
   "cell_type": "code",
   "execution_count": null,
   "id": "ed29ea2c",
   "metadata": {},
   "outputs": [],
   "source": [
    "df.head()"
   ]
  },
  {
   "cell_type": "code",
   "execution_count": null,
   "id": "0671a9a8",
   "metadata": {},
   "outputs": [],
   "source": [
    "os.makedirs(OUTPUT_TEST_DATA_DIR, exist_ok=True)"
   ]
  },
  {
   "cell_type": "code",
   "execution_count": null,
   "id": "2a98ca22",
   "metadata": {},
   "outputs": [],
   "source": [
    "df.to_csv(os.path.join(OUTPUT_TEST_DATA_DIR, \"test_data.csv\"), index=False)"
   ]
  },
  {
   "cell_type": "code",
   "execution_count": null,
   "id": "22b34960",
   "metadata": {},
   "outputs": [],
   "source": []
  },
  {
   "cell_type": "code",
   "execution_count": null,
   "id": "c6f9cdee",
   "metadata": {},
   "outputs": [],
   "source": []
  }
 ],
 "metadata": {
  "kernelspec": {
   "display_name": "ragas_eval",
   "language": "python",
   "name": "python3"
  },
  "language_info": {
   "codemirror_mode": {
    "name": "ipython",
    "version": 3
   },
   "file_extension": ".py",
   "mimetype": "text/x-python",
   "name": "python",
   "nbconvert_exporter": "python",
   "pygments_lexer": "ipython3",
   "version": "3.12.11"
  }
 },
 "nbformat": 4,
 "nbformat_minor": 5
}

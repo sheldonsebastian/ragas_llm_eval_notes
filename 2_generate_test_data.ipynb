{
 "cells": [
  {
   "cell_type": "markdown",
   "id": "9bb5712c",
   "metadata": {},
   "source": [
    "- Automated generate test data\n",
    "\n",
    "- https://docs.ragas.io/en/stable/getstarted/rag_testset_generation"
   ]
  },
  {
   "cell_type": "code",
   "execution_count": 14,
   "id": "faaaffa7",
   "metadata": {},
   "outputs": [],
   "source": [
    "from dotenv import load_dotenv\n",
    "from ragas.testset import TestsetGenerator\n",
    "from langchain_community.document_loaders import DirectoryLoader\n",
    "from ragas.llms.base import llm_factory\n",
    "from ragas.embeddings import OpenAIEmbeddings\n",
    "import openai\n",
    "import os"
   ]
  },
  {
   "cell_type": "code",
   "execution_count": 2,
   "id": "76c5e278",
   "metadata": {},
   "outputs": [
    {
     "data": {
      "text/plain": [
       "True"
      ]
     },
     "execution_count": 2,
     "metadata": {},
     "output_type": "execute_result"
    }
   ],
   "source": [
    "load_dotenv(\"configs.env\")"
   ]
  },
  {
   "cell_type": "code",
   "execution_count": 12,
   "id": "8403da77",
   "metadata": {},
   "outputs": [],
   "source": [
    "DATA_DIR_PATH = \"data_files\"\n",
    "OUTPUT_TEST_DATA_DIR = \"generated_test_data\""
   ]
  },
  {
   "cell_type": "code",
   "execution_count": 4,
   "id": "db6bc50b",
   "metadata": {},
   "outputs": [
    {
     "name": "stderr",
     "output_type": "stream",
     "text": [
      "libmagic is unavailable but assists in filetype detection. Please consider installing libmagic for better results.\n",
      "libmagic is unavailable but assists in filetype detection. Please consider installing libmagic for better results.\n"
     ]
    }
   ],
   "source": [
    "doc_files = DirectoryLoader(DATA_DIR_PATH, glob=\"**/*.txt\").load()"
   ]
  },
  {
   "cell_type": "code",
   "execution_count": 5,
   "id": "5803074d",
   "metadata": {},
   "outputs": [
    {
     "data": {
      "text/plain": [
       "2"
      ]
     },
     "execution_count": 5,
     "metadata": {},
     "output_type": "execute_result"
    }
   ],
   "source": [
    "len(doc_files)"
   ]
  },
  {
   "cell_type": "code",
   "execution_count": 6,
   "id": "94e2baf2",
   "metadata": {},
   "outputs": [],
   "source": [
    "generator_llm = llm_factory(\"gpt-4o-mini\")\n",
    "openai_client = openai.OpenAI()\n",
    "generator_embeddings = OpenAIEmbeddings(\n",
    "    client=openai_client, model=\"text-embedding-3-small\"\n",
    ")"
   ]
  },
  {
   "cell_type": "code",
   "execution_count": 7,
   "id": "0c73ad12",
   "metadata": {},
   "outputs": [],
   "source": [
    "generator = TestsetGenerator(llm=generator_llm, embedding_model=generator_embeddings)"
   ]
  },
  {
   "cell_type": "code",
   "execution_count": 8,
   "id": "257a06a4",
   "metadata": {},
   "outputs": [
    {
     "data": {
      "application/vnd.jupyter.widget-view+json": {
       "model_id": "c48f4fc7f6184969810ec9d7ebfdafbe",
       "version_major": 2,
       "version_minor": 0
      },
      "text/plain": [
       "Applying HeadlinesExtractor:   0%|          | 0/2 [00:00<?, ?it/s]"
      ]
     },
     "metadata": {},
     "output_type": "display_data"
    },
    {
     "data": {
      "application/vnd.jupyter.widget-view+json": {
       "model_id": "3de0c800046e4453beb50fef86e260e4",
       "version_major": 2,
       "version_minor": 0
      },
      "text/plain": [
       "Applying HeadlineSplitter:   0%|          | 0/2 [00:00<?, ?it/s]"
      ]
     },
     "metadata": {},
     "output_type": "display_data"
    },
    {
     "data": {
      "application/vnd.jupyter.widget-view+json": {
       "model_id": "4dbee29e78e14c77b76e37c55bfa9aa1",
       "version_major": 2,
       "version_minor": 0
      },
      "text/plain": [
       "Applying SummaryExtractor:   0%|          | 0/2 [00:00<?, ?it/s]"
      ]
     },
     "metadata": {},
     "output_type": "display_data"
    },
    {
     "data": {
      "application/vnd.jupyter.widget-view+json": {
       "model_id": "481d233da34c41599cdea3959ec55f08",
       "version_major": 2,
       "version_minor": 0
      },
      "text/plain": [
       "Applying CustomNodeFilter:   0%|          | 0/1016 [00:00<?, ?it/s]"
      ]
     },
     "metadata": {},
     "output_type": "display_data"
    },
    {
     "data": {
      "application/vnd.jupyter.widget-view+json": {
       "model_id": "47273356cb5d4a90aedd434e09681141",
       "version_major": 2,
       "version_minor": 0
      },
      "text/plain": [
       "Applying EmbeddingExtractor:   0%|          | 0/2 [00:00<?, ?it/s]"
      ]
     },
     "metadata": {},
     "output_type": "display_data"
    },
    {
     "name": "stderr",
     "output_type": "stream",
     "text": [
      "/opt/miniconda3/envs/ragas_eval/lib/python3.12/site-packages/ragas/testset/transforms/base.py:188: UserWarning: Using sync embedding model OpenAIEmbeddings in async context. This may impact performance. Consider using an async-compatible embedding model for better performance.\n",
      "  property_name, property_value = await self.extract(node)\n"
     ]
    },
    {
     "data": {
      "application/vnd.jupyter.widget-view+json": {
       "model_id": "c4c3acf3dac044219fb0445b33930c13",
       "version_major": 2,
       "version_minor": 0
      },
      "text/plain": [
       "Applying ThemesExtractor:   0%|          | 0/942 [00:00<?, ?it/s]"
      ]
     },
     "metadata": {},
     "output_type": "display_data"
    },
    {
     "data": {
      "application/vnd.jupyter.widget-view+json": {
       "model_id": "a02462d7d3b3442cbe6cace71335dac7",
       "version_major": 2,
       "version_minor": 0
      },
      "text/plain": [
       "Applying NERExtractor:   0%|          | 0/942 [00:00<?, ?it/s]"
      ]
     },
     "metadata": {},
     "output_type": "display_data"
    },
    {
     "data": {
      "application/vnd.jupyter.widget-view+json": {
       "model_id": "ddfd33a0c0f74242be57a7447a9859cb",
       "version_major": 2,
       "version_minor": 0
      },
      "text/plain": [
       "Applying CosineSimilarityBuilder:   0%|          | 0/1 [00:00<?, ?it/s]"
      ]
     },
     "metadata": {},
     "output_type": "display_data"
    },
    {
     "data": {
      "application/vnd.jupyter.widget-view+json": {
       "model_id": "e33a222344904badbefbfcb1692a8305",
       "version_major": 2,
       "version_minor": 0
      },
      "text/plain": [
       "Applying OverlapScoreBuilder:   0%|          | 0/1 [00:00<?, ?it/s]"
      ]
     },
     "metadata": {},
     "output_type": "display_data"
    },
    {
     "name": "stderr",
     "output_type": "stream",
     "text": [
      "Skipping multi_hop_abstract_query_synthesizer due to unexpected error: No relationships match the provided condition. Cannot form clusters.\n"
     ]
    },
    {
     "data": {
      "application/vnd.jupyter.widget-view+json": {
       "model_id": "aa5d1b17bc01482180c668cd4d95434d",
       "version_major": 2,
       "version_minor": 0
      },
      "text/plain": [
       "Generating personas:   0%|          | 0/2 [00:00<?, ?it/s]"
      ]
     },
     "metadata": {},
     "output_type": "display_data"
    },
    {
     "data": {
      "application/vnd.jupyter.widget-view+json": {
       "model_id": "d641f9e0157a476bb1daf4a821a4593d",
       "version_major": 2,
       "version_minor": 0
      },
      "text/plain": [
       "Generating Scenarios:   0%|          | 0/2 [00:00<?, ?it/s]"
      ]
     },
     "metadata": {},
     "output_type": "display_data"
    },
    {
     "data": {
      "application/vnd.jupyter.widget-view+json": {
       "model_id": "f5b2cfd5c8eb4679acebbf9dc2baae9d",
       "version_major": 2,
       "version_minor": 0
      },
      "text/plain": [
       "Generating Samples:   0%|          | 0/10 [00:00<?, ?it/s]"
      ]
     },
     "metadata": {},
     "output_type": "display_data"
    }
   ],
   "source": [
    "dataset = generator.generate_with_langchain_docs(doc_files, testset_size=10)"
   ]
  },
  {
   "cell_type": "code",
   "execution_count": 9,
   "id": "8863b365",
   "metadata": {},
   "outputs": [],
   "source": [
    "df = dataset.to_pandas()"
   ]
  },
  {
   "cell_type": "code",
   "execution_count": 10,
   "id": "4e8f8136",
   "metadata": {},
   "outputs": [
    {
     "data": {
      "text/plain": [
       "(10, 4)"
      ]
     },
     "execution_count": 10,
     "metadata": {},
     "output_type": "execute_result"
    }
   ],
   "source": [
    "df.shape"
   ]
  },
  {
   "cell_type": "code",
   "execution_count": 11,
   "id": "ed29ea2c",
   "metadata": {},
   "outputs": [
    {
     "data": {
      "text/html": [
       "<div>\n",
       "<style scoped>\n",
       "    .dataframe tbody tr th:only-of-type {\n",
       "        vertical-align: middle;\n",
       "    }\n",
       "\n",
       "    .dataframe tbody tr th {\n",
       "        vertical-align: top;\n",
       "    }\n",
       "\n",
       "    .dataframe thead th {\n",
       "        text-align: right;\n",
       "    }\n",
       "</style>\n",
       "<table border=\"1\" class=\"dataframe\">\n",
       "  <thead>\n",
       "    <tr style=\"text-align: right;\">\n",
       "      <th></th>\n",
       "      <th>user_input</th>\n",
       "      <th>reference_contexts</th>\n",
       "      <th>reference</th>\n",
       "      <th>synthesizer_name</th>\n",
       "    </tr>\n",
       "  </thead>\n",
       "  <tbody>\n",
       "    <tr>\n",
       "      <th>0</th>\n",
       "      <td>Who were the Atkinson brothers?</td>\n",
       "      <td>[The Adventure of the Noble Bachelor XI. The A...</td>\n",
       "      <td>The Atkinson brothers were involved in a singu...</td>\n",
       "      <td>single_hop_specific_query_synthesizer</td>\n",
       "    </tr>\n",
       "    <tr>\n",
       "      <th>1</th>\n",
       "      <td>Who is Mary Jane and what is her significance ...</td>\n",
       "      <td>[You would certainly have been burned, had you...</td>\n",
       "      <td>Mary Jane is described as incorrigible, and he...</td>\n",
       "      <td>single_hop_specific_query_synthesizer</td>\n",
       "    </tr>\n",
       "    <tr>\n",
       "      <th>2</th>\n",
       "      <td>What role does Watson play in the interaction ...</td>\n",
       "      <td>[‘Remarkable as being the scene of the death o...</td>\n",
       "      <td>In the interaction with the Count Von Kramm, W...</td>\n",
       "      <td>single_hop_specific_query_synthesizer</td>\n",
       "    </tr>\n",
       "    <tr>\n",
       "      <th>3</th>\n",
       "      <td>How does the context of Bohemia relate to the ...</td>\n",
       "      <td>[to be an immense scandal and seriously compro...</td>\n",
       "      <td>In the narrative, Bohemia is significant as it...</td>\n",
       "      <td>single_hop_specific_query_synthesizer</td>\n",
       "    </tr>\n",
       "    <tr>\n",
       "      <th>4</th>\n",
       "      <td>What details can you provide about the locatio...</td>\n",
       "      <td>[the betrothal was publicly proclaimed. That w...</td>\n",
       "      <td>Briony Lodge is described as a bijou villa loc...</td>\n",
       "      <td>single_hop_specific_query_synthesizer</td>\n",
       "    </tr>\n",
       "  </tbody>\n",
       "</table>\n",
       "</div>"
      ],
      "text/plain": [
       "                                          user_input  \\\n",
       "0                    Who were the Atkinson brothers?   \n",
       "1  Who is Mary Jane and what is her significance ...   \n",
       "2  What role does Watson play in the interaction ...   \n",
       "3  How does the context of Bohemia relate to the ...   \n",
       "4  What details can you provide about the locatio...   \n",
       "\n",
       "                                  reference_contexts  \\\n",
       "0  [The Adventure of the Noble Bachelor XI. The A...   \n",
       "1  [You would certainly have been burned, had you...   \n",
       "2  [‘Remarkable as being the scene of the death o...   \n",
       "3  [to be an immense scandal and seriously compro...   \n",
       "4  [the betrothal was publicly proclaimed. That w...   \n",
       "\n",
       "                                           reference  \\\n",
       "0  The Atkinson brothers were involved in a singu...   \n",
       "1  Mary Jane is described as incorrigible, and he...   \n",
       "2  In the interaction with the Count Von Kramm, W...   \n",
       "3  In the narrative, Bohemia is significant as it...   \n",
       "4  Briony Lodge is described as a bijou villa loc...   \n",
       "\n",
       "                        synthesizer_name  \n",
       "0  single_hop_specific_query_synthesizer  \n",
       "1  single_hop_specific_query_synthesizer  \n",
       "2  single_hop_specific_query_synthesizer  \n",
       "3  single_hop_specific_query_synthesizer  \n",
       "4  single_hop_specific_query_synthesizer  "
      ]
     },
     "execution_count": 11,
     "metadata": {},
     "output_type": "execute_result"
    }
   ],
   "source": [
    "df.head()"
   ]
  },
  {
   "cell_type": "code",
   "execution_count": 15,
   "id": "0671a9a8",
   "metadata": {},
   "outputs": [],
   "source": [
    "os.makedirs(OUTPUT_TEST_DATA_DIR, exist_ok=True)"
   ]
  },
  {
   "cell_type": "code",
   "execution_count": 16,
   "id": "2a98ca22",
   "metadata": {},
   "outputs": [],
   "source": [
    "df.to_csv(os.path.join(OUTPUT_TEST_DATA_DIR, \"test_data.csv\"), index=False)"
   ]
  },
  {
   "cell_type": "code",
   "execution_count": null,
   "id": "22b34960",
   "metadata": {},
   "outputs": [],
   "source": []
  }
 ],
 "metadata": {
  "kernelspec": {
   "display_name": "ragas_eval",
   "language": "python",
   "name": "python3"
  },
  "language_info": {
   "codemirror_mode": {
    "name": "ipython",
    "version": 3
   },
   "file_extension": ".py",
   "mimetype": "text/x-python",
   "name": "python",
   "nbconvert_exporter": "python",
   "pygments_lexer": "ipython3",
   "version": "3.12.11"
  }
 },
 "nbformat": 4,
 "nbformat_minor": 5
}

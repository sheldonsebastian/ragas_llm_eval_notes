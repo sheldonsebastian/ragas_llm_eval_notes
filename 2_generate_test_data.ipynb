{
 "cells": [
  {
   "cell_type": "markdown",
   "id": "9bb5712c",
   "metadata": {},
   "source": [
    "- Automated generate test data\n",
    "\n",
    "- https://docs.ragas.io/en/stable/getstarted/rag_testset_generation/#choose-your-llm"
   ]
  },
  {
   "cell_type": "code",
   "execution_count": 3,
   "id": "faaaffa7",
   "metadata": {},
   "outputs": [],
   "source": [
    "from dotenv import load_dotenv\n",
    "from ragas.testset import TestsetGenerator"
   ]
  },
  {
   "cell_type": "code",
   "execution_count": 2,
   "id": "76c5e278",
   "metadata": {},
   "outputs": [
    {
     "data": {
      "text/plain": [
       "True"
      ]
     },
     "execution_count": 2,
     "metadata": {},
     "output_type": "execute_result"
    }
   ],
   "source": [
    "load_dotenv(\"configs.env\")"
   ]
  },
  {
   "cell_type": "code",
   "execution_count": null,
   "id": "db6bc50b",
   "metadata": {},
   "outputs": [],
   "source": []
  }
 ],
 "metadata": {
  "kernelspec": {
   "display_name": "ragas_eval",
   "language": "python",
   "name": "python3"
  },
  "language_info": {
   "codemirror_mode": {
    "name": "ipython",
    "version": 3
   },
   "file_extension": ".py",
   "mimetype": "text/x-python",
   "name": "python",
   "nbconvert_exporter": "python",
   "pygments_lexer": "ipython3",
   "version": "3.12.11"
  }
 },
 "nbformat": 4,
 "nbformat_minor": 5
}

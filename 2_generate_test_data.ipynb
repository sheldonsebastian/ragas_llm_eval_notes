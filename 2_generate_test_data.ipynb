{
 "cells": [
  {
   "cell_type": "markdown",
   "id": "9bb5712c",
   "metadata": {},
   "source": [
    "This notebook demonstrates how to create a comprehensive test dataset using the [RAGAS test set generator](https://docs.ragas.io/en/stable/getstarted/rag_testset_generation).\n",
    "\n",
    "## Overview\n",
    "\n",
    "We'll generate synthetic test queries, relevant context, and ground truth responses from our source documents. The process includes:\n",
    "\n",
    "- Loading documents from the `test_data_files` directory\n",
    "- Using GPT-4o-mini and OpenAI embeddings to generate diverse test cases\n",
    "- Exporting the results for evaluation purposes\n",
    "\n",
    "## Sample Data\n",
    "\n",
    "For demonstration purposes, this notebook uses Chapter 1 from classic literature (Dracula and Sherlock Holmes) stored as `.txt` files in the `test_data_files` folder. \n",
    "\n",
    "**To use your own dataset:** Simply replace the files in the `test_data_files` directory with your documents."
   ]
  },
  {
   "cell_type": "code",
   "execution_count": 1,
   "id": "faaaffa7",
   "metadata": {},
   "outputs": [],
   "source": [
    "from dotenv import load_dotenv\n",
    "from ragas.testset import TestsetGenerator\n",
    "from langchain_community.document_loaders import DirectoryLoader\n",
    "from ragas.llms.base import llm_factory\n",
    "from ragas.embeddings import OpenAIEmbeddings\n",
    "import openai\n",
    "import os"
   ]
  },
  {
   "cell_type": "code",
   "execution_count": 2,
   "id": "76c5e278",
   "metadata": {},
   "outputs": [
    {
     "data": {
      "text/plain": [
       "True"
      ]
     },
     "execution_count": 2,
     "metadata": {},
     "output_type": "execute_result"
    }
   ],
   "source": [
    "load_dotenv(\"configs.env\")"
   ]
  },
  {
   "cell_type": "code",
   "execution_count": 3,
   "id": "8403da77",
   "metadata": {},
   "outputs": [],
   "source": [
    "TEST_DATA_DIR_PATH = \"test_data_files\"\n",
    "os.makedirs(TEST_DATA_DIR_PATH, exist_ok=True)\n",
    "\n",
    "OUTPUT_TEST_DATA_DIR = \"generated_test_data\"\n",
    "os.makedirs(OUTPUT_TEST_DATA_DIR, exist_ok=True)"
   ]
  },
  {
   "cell_type": "code",
   "execution_count": 4,
   "id": "94e2baf2",
   "metadata": {},
   "outputs": [],
   "source": [
    "generator_llm = llm_factory(\"gpt-4o-mini\")\n",
    "openai_client = openai.AsyncOpenAI()\n",
    "generator_embeddings = OpenAIEmbeddings(\n",
    "    client=openai_client, model=\"text-embedding-3-small\"\n",
    ")"
   ]
  },
  {
   "cell_type": "code",
   "execution_count": 5,
   "id": "0c73ad12",
   "metadata": {},
   "outputs": [],
   "source": [
    "generator = TestsetGenerator(llm=generator_llm, embedding_model=generator_embeddings)"
   ]
  },
  {
   "cell_type": "code",
   "execution_count": 6,
   "id": "47b2e29c",
   "metadata": {},
   "outputs": [
    {
     "name": "stderr",
     "output_type": "stream",
     "text": [
      "libmagic is unavailable but assists in filetype detection. Please consider installing libmagic for better results.\n",
      "libmagic is unavailable but assists in filetype detection. Please consider installing libmagic for better results.\n"
     ]
    }
   ],
   "source": [
    "doc_files = DirectoryLoader(TEST_DATA_DIR_PATH).load()"
   ]
  },
  {
   "cell_type": "code",
   "execution_count": 7,
   "id": "fc843207",
   "metadata": {},
   "outputs": [
    {
     "data": {
      "text/plain": [
       "2"
      ]
     },
     "execution_count": 7,
     "metadata": {},
     "output_type": "execute_result"
    }
   ],
   "source": [
    "len(doc_files)"
   ]
  },
  {
   "cell_type": "code",
   "execution_count": 8,
   "id": "257a06a4",
   "metadata": {},
   "outputs": [
    {
     "data": {
      "application/vnd.jupyter.widget-view+json": {
       "model_id": "7c5d08fd606142feb44c14cedc331f83",
       "version_major": 2,
       "version_minor": 0
      },
      "text/plain": [
       "Applying HeadlinesExtractor:   0%|          | 0/2 [00:00<?, ?it/s]"
      ]
     },
     "metadata": {},
     "output_type": "display_data"
    },
    {
     "data": {
      "application/vnd.jupyter.widget-view+json": {
       "model_id": "b0b4c8813bee433f82a47143bd06c2b9",
       "version_major": 2,
       "version_minor": 0
      },
      "text/plain": [
       "Applying HeadlineSplitter:   0%|          | 0/2 [00:00<?, ?it/s]"
      ]
     },
     "metadata": {},
     "output_type": "display_data"
    },
    {
     "data": {
      "application/vnd.jupyter.widget-view+json": {
       "model_id": "430fd21dd8f74c7dbf0795a226f6998a",
       "version_major": 2,
       "version_minor": 0
      },
      "text/plain": [
       "Applying SummaryExtractor:   0%|          | 0/2 [00:00<?, ?it/s]"
      ]
     },
     "metadata": {},
     "output_type": "display_data"
    },
    {
     "data": {
      "application/vnd.jupyter.widget-view+json": {
       "model_id": "73d82520f767462fbfa5d4099eeb19ce",
       "version_major": 2,
       "version_minor": 0
      },
      "text/plain": [
       "Applying CustomNodeFilter:   0%|          | 0/21 [00:00<?, ?it/s]"
      ]
     },
     "metadata": {},
     "output_type": "display_data"
    },
    {
     "data": {
      "application/vnd.jupyter.widget-view+json": {
       "model_id": "2c52df8a5fce41a09befb90709c19408",
       "version_major": 2,
       "version_minor": 0
      },
      "text/plain": [
       "Applying EmbeddingExtractor:   0%|          | 0/2 [00:00<?, ?it/s]"
      ]
     },
     "metadata": {},
     "output_type": "display_data"
    },
    {
     "data": {
      "application/vnd.jupyter.widget-view+json": {
       "model_id": "748e767885084bbebb0de337d63ce26c",
       "version_major": 2,
       "version_minor": 0
      },
      "text/plain": [
       "Applying ThemesExtractor:   0%|          | 0/20 [00:00<?, ?it/s]"
      ]
     },
     "metadata": {},
     "output_type": "display_data"
    },
    {
     "data": {
      "application/vnd.jupyter.widget-view+json": {
       "model_id": "f2256e3eb18f483ab52d0828d8ec21fb",
       "version_major": 2,
       "version_minor": 0
      },
      "text/plain": [
       "Applying NERExtractor:   0%|          | 0/20 [00:00<?, ?it/s]"
      ]
     },
     "metadata": {},
     "output_type": "display_data"
    },
    {
     "data": {
      "application/vnd.jupyter.widget-view+json": {
       "model_id": "208e0e2e8e7245a69237d5fd79242920",
       "version_major": 2,
       "version_minor": 0
      },
      "text/plain": [
       "Applying CosineSimilarityBuilder:   0%|          | 0/1 [00:00<?, ?it/s]"
      ]
     },
     "metadata": {},
     "output_type": "display_data"
    },
    {
     "data": {
      "application/vnd.jupyter.widget-view+json": {
       "model_id": "762843dd24e141a99e594cb9eb23e4ee",
       "version_major": 2,
       "version_minor": 0
      },
      "text/plain": [
       "Applying OverlapScoreBuilder:   0%|          | 0/1 [00:00<?, ?it/s]"
      ]
     },
     "metadata": {},
     "output_type": "display_data"
    },
    {
     "name": "stderr",
     "output_type": "stream",
     "text": [
      "Skipping multi_hop_abstract_query_synthesizer due to unexpected error: No relationships match the provided condition. Cannot form clusters.\n"
     ]
    },
    {
     "data": {
      "application/vnd.jupyter.widget-view+json": {
       "model_id": "614af68fbdc74f47bc8e62ff75adba84",
       "version_major": 2,
       "version_minor": 0
      },
      "text/plain": [
       "Generating personas:   0%|          | 0/2 [00:00<?, ?it/s]"
      ]
     },
     "metadata": {},
     "output_type": "display_data"
    },
    {
     "data": {
      "application/vnd.jupyter.widget-view+json": {
       "model_id": "f8e8478c6f3c4732bb06e38e34d8716a",
       "version_major": 2,
       "version_minor": 0
      },
      "text/plain": [
       "Generating Scenarios:   0%|          | 0/2 [00:00<?, ?it/s]"
      ]
     },
     "metadata": {},
     "output_type": "display_data"
    },
    {
     "data": {
      "application/vnd.jupyter.widget-view+json": {
       "model_id": "9112cc58723d4de295b058f032d31d33",
       "version_major": 2,
       "version_minor": 0
      },
      "text/plain": [
       "Generating Samples:   0%|          | 0/10 [00:00<?, ?it/s]"
      ]
     },
     "metadata": {},
     "output_type": "display_data"
    }
   ],
   "source": [
    "# generate total 10 test samples\n",
    "dataset = generator.generate_with_langchain_docs(doc_files, testset_size=10)"
   ]
  },
  {
   "cell_type": "code",
   "execution_count": 9,
   "id": "8863b365",
   "metadata": {},
   "outputs": [],
   "source": [
    "df = dataset.to_pandas()"
   ]
  },
  {
   "cell_type": "code",
   "execution_count": 10,
   "id": "4e8f8136",
   "metadata": {},
   "outputs": [
    {
     "data": {
      "text/plain": [
       "(10, 4)"
      ]
     },
     "execution_count": 10,
     "metadata": {},
     "output_type": "execute_result"
    }
   ],
   "source": [
    "df.shape"
   ]
  },
  {
   "cell_type": "code",
   "execution_count": 11,
   "id": "ed29ea2c",
   "metadata": {},
   "outputs": [
    {
     "data": {
      "text/html": [
       "<div>\n",
       "<style scoped>\n",
       "    .dataframe tbody tr th:only-of-type {\n",
       "        vertical-align: middle;\n",
       "    }\n",
       "\n",
       "    .dataframe tbody tr th {\n",
       "        vertical-align: top;\n",
       "    }\n",
       "\n",
       "    .dataframe thead th {\n",
       "        text-align: right;\n",
       "    }\n",
       "</style>\n",
       "<table border=\"1\" class=\"dataframe\">\n",
       "  <thead>\n",
       "    <tr style=\"text-align: right;\">\n",
       "      <th></th>\n",
       "      <th>user_input</th>\n",
       "      <th>reference_contexts</th>\n",
       "      <th>reference</th>\n",
       "      <th>synthesizer_name</th>\n",
       "    </tr>\n",
       "  </thead>\n",
       "  <tbody>\n",
       "    <tr>\n",
       "      <th>0</th>\n",
       "      <td>What was the author's experience upon arriving...</td>\n",
       "      <td>[3 May. Bistritz._--Left Munich at 8:35 P. M.,...</td>\n",
       "      <td>The author arrived in Vienna early the next mo...</td>\n",
       "      <td>single_hop_specific_query_synthesizer</td>\n",
       "    </tr>\n",
       "    <tr>\n",
       "      <th>1</th>\n",
       "      <td>Wot kind of experiences can a traveler expect ...</td>\n",
       "      <td>[such as we see in old missals; sometimes we r...</td>\n",
       "      <td>In London, a traveler can expect to encounter ...</td>\n",
       "      <td>single_hop_specific_query_synthesizer</td>\n",
       "    </tr>\n",
       "    <tr>\n",
       "      <th>2</th>\n",
       "      <td>What does the Count's letter indicate about th...</td>\n",
       "      <td>[4 May._--I found that my landlord had got a l...</td>\n",
       "      <td>The Count's letter directed the narrator's lan...</td>\n",
       "      <td>single_hop_specific_query_synthesizer</td>\n",
       "    </tr>\n",
       "    <tr>\n",
       "      <th>3</th>\n",
       "      <td>In the context of travel narratives, how is th...</td>\n",
       "      <td>[5 May. The Castle._--The grey of the morning ...</td>\n",
       "      <td>The term 'vrolok' is significant as it represe...</td>\n",
       "      <td>single_hop_specific_query_synthesizer</td>\n",
       "    </tr>\n",
       "    <tr>\n",
       "      <th>4</th>\n",
       "      <td>What is the significance of the Mittel Land in...</td>\n",
       "      <td>[the Hospadars would not repair them, lest the...</td>\n",
       "      <td>The Mittel Land is described as a beautiful re...</td>\n",
       "      <td>single_hop_specific_query_synthesizer</td>\n",
       "    </tr>\n",
       "  </tbody>\n",
       "</table>\n",
       "</div>"
      ],
      "text/plain": [
       "                                          user_input  \\\n",
       "0  What was the author's experience upon arriving...   \n",
       "1  Wot kind of experiences can a traveler expect ...   \n",
       "2  What does the Count's letter indicate about th...   \n",
       "3  In the context of travel narratives, how is th...   \n",
       "4  What is the significance of the Mittel Land in...   \n",
       "\n",
       "                                  reference_contexts  \\\n",
       "0  [3 May. Bistritz._--Left Munich at 8:35 P. M.,...   \n",
       "1  [such as we see in old missals; sometimes we r...   \n",
       "2  [4 May._--I found that my landlord had got a l...   \n",
       "3  [5 May. The Castle._--The grey of the morning ...   \n",
       "4  [the Hospadars would not repair them, lest the...   \n",
       "\n",
       "                                           reference  \\\n",
       "0  The author arrived in Vienna early the next mo...   \n",
       "1  In London, a traveler can expect to encounter ...   \n",
       "2  The Count's letter directed the narrator's lan...   \n",
       "3  The term 'vrolok' is significant as it represe...   \n",
       "4  The Mittel Land is described as a beautiful re...   \n",
       "\n",
       "                        synthesizer_name  \n",
       "0  single_hop_specific_query_synthesizer  \n",
       "1  single_hop_specific_query_synthesizer  \n",
       "2  single_hop_specific_query_synthesizer  \n",
       "3  single_hop_specific_query_synthesizer  \n",
       "4  single_hop_specific_query_synthesizer  "
      ]
     },
     "execution_count": 11,
     "metadata": {},
     "output_type": "execute_result"
    }
   ],
   "source": [
    "df.head()"
   ]
  },
  {
   "cell_type": "code",
   "execution_count": 12,
   "id": "0671a9a8",
   "metadata": {},
   "outputs": [],
   "source": [
    "os.makedirs(OUTPUT_TEST_DATA_DIR, exist_ok=True)"
   ]
  },
  {
   "cell_type": "code",
   "execution_count": 13,
   "id": "2a98ca22",
   "metadata": {},
   "outputs": [],
   "source": [
    "# save generated test data to csv\n",
    "df.to_csv(os.path.join(OUTPUT_TEST_DATA_DIR, \"test_data.csv\"), index=False)"
   ]
  },
  {
   "cell_type": "code",
   "execution_count": 14,
   "id": "22b34960",
   "metadata": {},
   "outputs": [
    {
     "name": "stdout",
     "output_type": "stream",
     "text": [
      "Finito\n"
     ]
    }
   ],
   "source": [
    "print(\"Finito\")"
   ]
  },
  {
   "cell_type": "code",
   "execution_count": null,
   "id": "c6f9cdee",
   "metadata": {},
   "outputs": [],
   "source": []
  }
 ],
 "metadata": {
  "kernelspec": {
   "display_name": "ragas_eval",
   "language": "python",
   "name": "python3"
  },
  "language_info": {
   "codemirror_mode": {
    "name": "ipython",
    "version": 3
   },
   "file_extension": ".py",
   "mimetype": "text/x-python",
   "name": "python",
   "nbconvert_exporter": "python",
   "pygments_lexer": "ipython3",
   "version": "3.12.11"
  }
 },
 "nbformat": 4,
 "nbformat_minor": 5
}

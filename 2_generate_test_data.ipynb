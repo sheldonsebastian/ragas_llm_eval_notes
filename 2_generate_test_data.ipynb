{
 "cells": [
  {
   "cell_type": "markdown",
   "id": "9bb5712c",
   "metadata": {},
   "source": [
    "- Automated generate test data\n",
    "\n",
    "- https://docs.ragas.io/en/stable/getstarted/rag_testset_generation"
   ]
  },
  {
   "cell_type": "code",
   "execution_count": 1,
   "id": "faaaffa7",
   "metadata": {},
   "outputs": [],
   "source": [
    "from dotenv import load_dotenv\n",
    "from ragas.testset import TestsetGenerator\n",
    "from langchain_community.document_loaders import DirectoryLoader\n",
    "from ragas.llms.base import llm_factory\n",
    "from ragas.embeddings import OpenAIEmbeddings\n",
    "import openai\n",
    "import os\n",
    "import random\n",
    "import re"
   ]
  },
  {
   "cell_type": "code",
   "execution_count": 2,
   "id": "76c5e278",
   "metadata": {},
   "outputs": [
    {
     "data": {
      "text/plain": [
       "True"
      ]
     },
     "execution_count": 2,
     "metadata": {},
     "output_type": "execute_result"
    }
   ],
   "source": [
    "load_dotenv(\"configs.env\")"
   ]
  },
  {
   "cell_type": "code",
   "execution_count": 3,
   "id": "8403da77",
   "metadata": {},
   "outputs": [],
   "source": [
    "TEST_DATA_DIR_PATH = \"test_data_files\"\n",
    "os.makedirs(TEST_DATA_DIR_PATH, exist_ok=True)\n",
    "\n",
    "OUTPUT_TEST_DATA_DIR = \"generated_test_data\"\n",
    "os.makedirs(OUTPUT_TEST_DATA_DIR, exist_ok=True)"
   ]
  },
  {
   "cell_type": "code",
   "execution_count": 4,
   "id": "94e2baf2",
   "metadata": {},
   "outputs": [],
   "source": [
    "generator_llm = llm_factory(\"gpt-4o-mini\")\n",
    "openai_client = openai.AsyncOpenAI()\n",
    "generator_embeddings = OpenAIEmbeddings(\n",
    "    client=openai_client, model=\"text-embedding-3-small\"\n",
    ")"
   ]
  },
  {
   "cell_type": "code",
   "execution_count": 5,
   "id": "0c73ad12",
   "metadata": {},
   "outputs": [],
   "source": [
    "generator = TestsetGenerator(llm=generator_llm, embedding_model=generator_embeddings)"
   ]
  },
  {
   "cell_type": "code",
   "execution_count": 6,
   "id": "47b2e29c",
   "metadata": {},
   "outputs": [
    {
     "name": "stderr",
     "output_type": "stream",
     "text": [
      "libmagic is unavailable but assists in filetype detection. Please consider installing libmagic for better results.\n",
      "libmagic is unavailable but assists in filetype detection. Please consider installing libmagic for better results.\n"
     ]
    }
   ],
   "source": [
    "doc_files = DirectoryLoader(TEST_DATA_DIR_PATH).load()"
   ]
  },
  {
   "cell_type": "code",
   "execution_count": 7,
   "id": "fc843207",
   "metadata": {},
   "outputs": [
    {
     "data": {
      "text/plain": [
       "2"
      ]
     },
     "execution_count": 7,
     "metadata": {},
     "output_type": "execute_result"
    }
   ],
   "source": [
    "len(doc_files)"
   ]
  },
  {
   "cell_type": "code",
   "execution_count": 8,
   "id": "257a06a4",
   "metadata": {},
   "outputs": [
    {
     "data": {
      "application/vnd.jupyter.widget-view+json": {
       "model_id": "c3563426d4e348718700d24f61d22988",
       "version_major": 2,
       "version_minor": 0
      },
      "text/plain": [
       "Applying HeadlinesExtractor:   0%|          | 0/2 [00:00<?, ?it/s]"
      ]
     },
     "metadata": {},
     "output_type": "display_data"
    },
    {
     "data": {
      "application/vnd.jupyter.widget-view+json": {
       "model_id": "1d7896561e7a47b986c8a25fb90d641e",
       "version_major": 2,
       "version_minor": 0
      },
      "text/plain": [
       "Applying HeadlineSplitter:   0%|          | 0/2 [00:00<?, ?it/s]"
      ]
     },
     "metadata": {},
     "output_type": "display_data"
    },
    {
     "data": {
      "application/vnd.jupyter.widget-view+json": {
       "model_id": "65cb1fd197b34a048bae0a742a66cd75",
       "version_major": 2,
       "version_minor": 0
      },
      "text/plain": [
       "Applying SummaryExtractor:   0%|          | 0/2 [00:00<?, ?it/s]"
      ]
     },
     "metadata": {},
     "output_type": "display_data"
    },
    {
     "data": {
      "application/vnd.jupyter.widget-view+json": {
       "model_id": "ac5d5e3e38e443c7bcf32e7afe745f16",
       "version_major": 2,
       "version_minor": 0
      },
      "text/plain": [
       "Applying CustomNodeFilter:   0%|          | 0/21 [00:00<?, ?it/s]"
      ]
     },
     "metadata": {},
     "output_type": "display_data"
    },
    {
     "data": {
      "application/vnd.jupyter.widget-view+json": {
       "model_id": "b0b00c4f6a7640ceab2a93cd1a571e52",
       "version_major": 2,
       "version_minor": 0
      },
      "text/plain": [
       "Applying EmbeddingExtractor:   0%|          | 0/2 [00:00<?, ?it/s]"
      ]
     },
     "metadata": {},
     "output_type": "display_data"
    },
    {
     "data": {
      "application/vnd.jupyter.widget-view+json": {
       "model_id": "2fc1b33d957b4f2796d5ae18d1dffc34",
       "version_major": 2,
       "version_minor": 0
      },
      "text/plain": [
       "Applying ThemesExtractor:   0%|          | 0/20 [00:00<?, ?it/s]"
      ]
     },
     "metadata": {},
     "output_type": "display_data"
    },
    {
     "data": {
      "application/vnd.jupyter.widget-view+json": {
       "model_id": "d809e5e050bc48a09344158f95708287",
       "version_major": 2,
       "version_minor": 0
      },
      "text/plain": [
       "Applying NERExtractor:   0%|          | 0/20 [00:00<?, ?it/s]"
      ]
     },
     "metadata": {},
     "output_type": "display_data"
    },
    {
     "data": {
      "application/vnd.jupyter.widget-view+json": {
       "model_id": "c9af16a7e86348e486f8aae211260adf",
       "version_major": 2,
       "version_minor": 0
      },
      "text/plain": [
       "Applying CosineSimilarityBuilder:   0%|          | 0/1 [00:00<?, ?it/s]"
      ]
     },
     "metadata": {},
     "output_type": "display_data"
    },
    {
     "data": {
      "application/vnd.jupyter.widget-view+json": {
       "model_id": "611374ecb381473c9e871050e6bfc6f9",
       "version_major": 2,
       "version_minor": 0
      },
      "text/plain": [
       "Applying OverlapScoreBuilder:   0%|          | 0/1 [00:00<?, ?it/s]"
      ]
     },
     "metadata": {},
     "output_type": "display_data"
    },
    {
     "name": "stderr",
     "output_type": "stream",
     "text": [
      "Skipping multi_hop_abstract_query_synthesizer due to unexpected error: No relationships match the provided condition. Cannot form clusters.\n"
     ]
    },
    {
     "data": {
      "application/vnd.jupyter.widget-view+json": {
       "model_id": "b1c3265b0d68475880c377fabc0aa1af",
       "version_major": 2,
       "version_minor": 0
      },
      "text/plain": [
       "Generating personas:   0%|          | 0/2 [00:00<?, ?it/s]"
      ]
     },
     "metadata": {},
     "output_type": "display_data"
    },
    {
     "data": {
      "application/vnd.jupyter.widget-view+json": {
       "model_id": "420de655a7ea4928a1017a2e38c37e02",
       "version_major": 2,
       "version_minor": 0
      },
      "text/plain": [
       "Generating Scenarios:   0%|          | 0/2 [00:00<?, ?it/s]"
      ]
     },
     "metadata": {},
     "output_type": "display_data"
    },
    {
     "data": {
      "application/vnd.jupyter.widget-view+json": {
       "model_id": "d4dd4b39b0a44c09a78781affe2d7713",
       "version_major": 2,
       "version_minor": 0
      },
      "text/plain": [
       "Generating Samples:   0%|          | 0/10 [00:00<?, ?it/s]"
      ]
     },
     "metadata": {},
     "output_type": "display_data"
    }
   ],
   "source": [
    "dataset = generator.generate_with_langchain_docs(doc_files, testset_size=10)"
   ]
  },
  {
   "cell_type": "code",
   "execution_count": 9,
   "id": "8863b365",
   "metadata": {},
   "outputs": [],
   "source": [
    "df = dataset.to_pandas()"
   ]
  },
  {
   "cell_type": "code",
   "execution_count": 10,
   "id": "4e8f8136",
   "metadata": {},
   "outputs": [
    {
     "data": {
      "text/plain": [
       "(10, 4)"
      ]
     },
     "execution_count": 10,
     "metadata": {},
     "output_type": "execute_result"
    }
   ],
   "source": [
    "df.shape"
   ]
  },
  {
   "cell_type": "code",
   "execution_count": 11,
   "id": "ed29ea2c",
   "metadata": {},
   "outputs": [
    {
     "data": {
      "text/html": [
       "<div>\n",
       "<style scoped>\n",
       "    .dataframe tbody tr th:only-of-type {\n",
       "        vertical-align: middle;\n",
       "    }\n",
       "\n",
       "    .dataframe tbody tr th {\n",
       "        vertical-align: top;\n",
       "    }\n",
       "\n",
       "    .dataframe thead th {\n",
       "        text-align: right;\n",
       "    }\n",
       "</style>\n",
       "<table border=\"1\" class=\"dataframe\">\n",
       "  <thead>\n",
       "    <tr style=\"text-align: right;\">\n",
       "      <th></th>\n",
       "      <th>user_input</th>\n",
       "      <th>reference_contexts</th>\n",
       "      <th>reference</th>\n",
       "      <th>synthesizer_name</th>\n",
       "    </tr>\n",
       "  </thead>\n",
       "  <tbody>\n",
       "    <tr>\n",
       "      <th>0</th>\n",
       "      <td>What impression did Jonathan Harker have of Bu...</td>\n",
       "      <td>[JONATHAN HARKER’S JOURNAL (_Kept in shorthand...</td>\n",
       "      <td>Jonathan Harker described Buda-Pesth as a wond...</td>\n",
       "      <td>single_hop_specific_query_synthesizer</td>\n",
       "    </tr>\n",
       "    <tr>\n",
       "      <th>1</th>\n",
       "      <td>What is the Golden Krone Hotel like?</td>\n",
       "      <td>[saw little towns or castles on the top of ste...</td>\n",
       "      <td>The Golden Krone Hotel is described as thoroug...</td>\n",
       "      <td>single_hop_specific_query_synthesizer</td>\n",
       "    </tr>\n",
       "    <tr>\n",
       "      <th>2</th>\n",
       "      <td>What significance does St. George’s Day hold i...</td>\n",
       "      <td>[4 May._--I found that my landlord had got a l...</td>\n",
       "      <td>St. George’s Day is significant as it is descr...</td>\n",
       "      <td>single_hop_specific_query_synthesizer</td>\n",
       "    </tr>\n",
       "    <tr>\n",
       "      <th>3</th>\n",
       "      <td>In the context of the narrative, what signific...</td>\n",
       "      <td>[5 May. The Castle._--The grey of the morning ...</td>\n",
       "      <td>'Ordog' translates to 'Satan' in the local lan...</td>\n",
       "      <td>single_hop_specific_query_synthesizer</td>\n",
       "    </tr>\n",
       "    <tr>\n",
       "      <th>4</th>\n",
       "      <td>Why the Hospadars no fix things for fear of th...</td>\n",
       "      <td>[the Hospadars would not repair them, lest the...</td>\n",
       "      <td>The Hospadars would not repair them, lest the ...</td>\n",
       "      <td>single_hop_specific_query_synthesizer</td>\n",
       "    </tr>\n",
       "  </tbody>\n",
       "</table>\n",
       "</div>"
      ],
      "text/plain": [
       "                                          user_input  \\\n",
       "0  What impression did Jonathan Harker have of Bu...   \n",
       "1               What is the Golden Krone Hotel like?   \n",
       "2  What significance does St. George’s Day hold i...   \n",
       "3  In the context of the narrative, what signific...   \n",
       "4  Why the Hospadars no fix things for fear of th...   \n",
       "\n",
       "                                  reference_contexts  \\\n",
       "0  [JONATHAN HARKER’S JOURNAL (_Kept in shorthand...   \n",
       "1  [saw little towns or castles on the top of ste...   \n",
       "2  [4 May._--I found that my landlord had got a l...   \n",
       "3  [5 May. The Castle._--The grey of the morning ...   \n",
       "4  [the Hospadars would not repair them, lest the...   \n",
       "\n",
       "                                           reference  \\\n",
       "0  Jonathan Harker described Buda-Pesth as a wond...   \n",
       "1  The Golden Krone Hotel is described as thoroug...   \n",
       "2  St. George’s Day is significant as it is descr...   \n",
       "3  'Ordog' translates to 'Satan' in the local lan...   \n",
       "4  The Hospadars would not repair them, lest the ...   \n",
       "\n",
       "                        synthesizer_name  \n",
       "0  single_hop_specific_query_synthesizer  \n",
       "1  single_hop_specific_query_synthesizer  \n",
       "2  single_hop_specific_query_synthesizer  \n",
       "3  single_hop_specific_query_synthesizer  \n",
       "4  single_hop_specific_query_synthesizer  "
      ]
     },
     "execution_count": 11,
     "metadata": {},
     "output_type": "execute_result"
    }
   ],
   "source": [
    "df.head()"
   ]
  },
  {
   "cell_type": "code",
   "execution_count": 12,
   "id": "0671a9a8",
   "metadata": {},
   "outputs": [],
   "source": [
    "os.makedirs(OUTPUT_TEST_DATA_DIR, exist_ok=True)"
   ]
  },
  {
   "cell_type": "code",
   "execution_count": 13,
   "id": "2a98ca22",
   "metadata": {},
   "outputs": [],
   "source": [
    "df.to_csv(os.path.join(OUTPUT_TEST_DATA_DIR, \"test_data.csv\"), index=False)"
   ]
  },
  {
   "cell_type": "code",
   "execution_count": null,
   "id": "22b34960",
   "metadata": {},
   "outputs": [],
   "source": []
  },
  {
   "cell_type": "code",
   "execution_count": null,
   "id": "c6f9cdee",
   "metadata": {},
   "outputs": [],
   "source": []
  }
 ],
 "metadata": {
  "kernelspec": {
   "display_name": "ragas_eval",
   "language": "python",
   "name": "python3"
  },
  "language_info": {
   "codemirror_mode": {
    "name": "ipython",
    "version": 3
   },
   "file_extension": ".py",
   "mimetype": "text/x-python",
   "name": "python",
   "nbconvert_exporter": "python",
   "pygments_lexer": "ipython3",
   "version": "3.12.11"
  }
 },
 "nbformat": 4,
 "nbformat_minor": 5
}

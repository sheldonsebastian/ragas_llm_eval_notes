{
 "cells": [
  {
   "cell_type": "markdown",
   "id": "5cfb6ce9",
   "metadata": {},
   "source": [
    "In this notebook, we will explore various RAG (Retrieval-Augmented Generation) evaluation metrics using the [RAGAS framework](https://docs.ragas.io/en/stable/concepts/metrics/available_metrics/).\n",
    "\n",
    "**Why LLM Evaluation Matters**\n",
    "\n",
    "Traditional software testing approaches fall short when evaluating LLM-based systems because:\n",
    "- Outputs are non-deterministic and context-dependent\n",
    "- Multiple correct answers can exist for the same input\n",
    "- Semantic understanding is required beyond exact string matching\n",
    "\n",
    "**LLMs as Judges**\n",
    "\n",
    "We leverage LLMs themselves as evaluation judges to assess:\n",
    "- Semantic similarity and relevance\n",
    "- Factual accuracy and consistency\n",
    "- Context utilization and precision\n",
    "\n",
    "**What You'll Learn**\n",
    "\n",
    "This notebook demonstrates how to evaluate every component of your RAG pipeline with practical code examples, covering key metrics that measure different aspects of RAG performance."
   ]
  },
  {
   "cell_type": "markdown",
   "id": "7e556b65",
   "metadata": {},
   "source": [
    "# Background"
   ]
  },
  {
   "cell_type": "markdown",
   "id": "5f7e5923",
   "metadata": {},
   "source": [
    "<image src=\"assets/Evaluation.png\">"
   ]
  },
  {
   "cell_type": "markdown",
   "id": "4147aefa",
   "metadata": {},
   "source": [
    "## 1. Context Precision\n",
    "\n",
    "What is ...?\n"
   ]
  },
  {
   "cell_type": "markdown",
   "id": "971e48e2",
   "metadata": {},
   "source": [
    "## 2. Context Recall\n",
    "\n",
    "What is ...?"
   ]
  },
  {
   "cell_type": "markdown",
   "id": "d883ab88",
   "metadata": {},
   "source": [
    "## 3. Response relevance\n",
    "\n",
    "What is ...?"
   ]
  },
  {
   "cell_type": "markdown",
   "id": "6d123be5",
   "metadata": {},
   "source": [
    "## 4. Faithfulness\n",
    "\n",
    "What is ...?"
   ]
  },
  {
   "cell_type": "markdown",
   "id": "2e13ae43",
   "metadata": {},
   "source": [
    "## 5. Factual Correctness\n",
    "\n",
    "What is ...?"
   ]
  },
  {
   "cell_type": "markdown",
   "id": "613252f3",
   "metadata": {},
   "source": [
    "# Code implementation"
   ]
  },
  {
   "cell_type": "code",
   "execution_count": 86,
   "id": "18d93c8f",
   "metadata": {},
   "outputs": [],
   "source": [
    "# imports\n",
    "from ragas import SingleTurnSample\n",
    "from ragas.metrics import (\n",
    "    LLMContextPrecisionWithoutReference,\n",
    "    LLMContextRecall,\n",
    "    ResponseRelevancy,\n",
    "    Faithfulness,\n",
    "    FactualCorrectness,\n",
    ")\n",
    "from ragas.llms.base import llm_factory\n",
    "from langchain_openai import OpenAIEmbeddings\n",
    "from dotenv import load_dotenv"
   ]
  },
  {
   "cell_type": "code",
   "execution_count": null,
   "id": "9c30cb95",
   "metadata": {},
   "outputs": [
    {
     "data": {
      "text/plain": [
       "True"
      ]
     },
     "execution_count": 62,
     "metadata": {},
     "output_type": "execute_result"
    }
   ],
   "source": [
    "# load environment variables\n",
    "load_dotenv(\"configs.env\")"
   ]
  },
  {
   "cell_type": "code",
   "execution_count": 64,
   "id": "a0cf9b6c",
   "metadata": {},
   "outputs": [],
   "source": [
    "# initialize LLMs and embedding models\n",
    "llm_as_judge = llm_factory(\"gpt-4o-mini\")\n",
    "embeddings = OpenAIEmbeddings(model=\"text-embedding-3-large\")"
   ]
  },
  {
   "cell_type": "markdown",
   "id": "c2cd2dbd",
   "metadata": {},
   "source": [
    "## 1. Context Precision\n"
   ]
  },
  {
   "cell_type": "code",
   "execution_count": 20,
   "id": "b0698a1c",
   "metadata": {},
   "outputs": [],
   "source": [
    "sample_data = {\n",
    "    \"user_query\": \"What is the capital of France?\",\n",
    "    \"retrieved_contexts\": [\n",
    "        \"France is a country in Europe. Its capital is Paris.\",\n",
    "        \"The Eiffel Tower is located in Paris, the capital city of France.\",\n",
    "        \"Berlin is the capital of Germany.\",\n",
    "    ],\n",
    "    \"response\": \"The capital of France is Paris.\",\n",
    "}"
   ]
  },
  {
   "cell_type": "code",
   "execution_count": 21,
   "id": "4e04b754",
   "metadata": {},
   "outputs": [],
   "source": [
    "context_precision = LLMContextPrecisionWithoutReference(llm=llm_as_judge)"
   ]
  },
  {
   "cell_type": "code",
   "execution_count": 22,
   "id": "4ab5a669",
   "metadata": {},
   "outputs": [],
   "source": [
    "sample = SingleTurnSample(\n",
    "    user_input=sample_data[\"user_query\"],\n",
    "    response=sample_data[\"response\"],\n",
    "    retrieved_contexts=sample_data[\"retrieved_contexts\"],\n",
    ")"
   ]
  },
  {
   "cell_type": "code",
   "execution_count": 23,
   "id": "a3ddeafa",
   "metadata": {},
   "outputs": [
    {
     "data": {
      "text/plain": [
       "0.99999999995"
      ]
     },
     "execution_count": 23,
     "metadata": {},
     "output_type": "execute_result"
    }
   ],
   "source": [
    "await context_precision.single_turn_ascore(sample)"
   ]
  },
  {
   "cell_type": "code",
   "execution_count": 24,
   "id": "8c4c320f",
   "metadata": {},
   "outputs": [],
   "source": [
    "sample_data = {\n",
    "    \"user_query\": \"What is the capital of France?\",\n",
    "    \"retrieved_contexts\": [\n",
    "        \"Berlin is the capital of Germany.\",\n",
    "        \"The Eiffel Tower is located in Paris, the capital city of France.\",\n",
    "        \"France is a country in Europe. Its capital is Paris.\",\n",
    "    ],\n",
    "    \"response\": \"The capital of France is Paris.\",\n",
    "}"
   ]
  },
  {
   "cell_type": "code",
   "execution_count": 25,
   "id": "41b193ad",
   "metadata": {},
   "outputs": [],
   "source": [
    "context_precision = LLMContextPrecisionWithoutReference(llm=llm_as_judge)"
   ]
  },
  {
   "cell_type": "code",
   "execution_count": 26,
   "id": "764be9a1",
   "metadata": {},
   "outputs": [],
   "source": [
    "sample = SingleTurnSample(\n",
    "    user_input=sample_data[\"user_query\"],\n",
    "    response=sample_data[\"response\"],\n",
    "    retrieved_contexts=sample_data[\"retrieved_contexts\"],\n",
    ")"
   ]
  },
  {
   "cell_type": "code",
   "execution_count": 27,
   "id": "0064dff7",
   "metadata": {},
   "outputs": [
    {
     "data": {
      "text/plain": [
       "0.5833333333041666"
      ]
     },
     "execution_count": 27,
     "metadata": {},
     "output_type": "execute_result"
    }
   ],
   "source": [
    "await context_precision.single_turn_ascore(sample)"
   ]
  },
  {
   "cell_type": "markdown",
   "id": "6c7eac39",
   "metadata": {},
   "source": [
    "## 2. Context Recall"
   ]
  },
  {
   "cell_type": "code",
   "execution_count": 30,
   "id": "6f49954b",
   "metadata": {},
   "outputs": [],
   "source": [
    "sample = SingleTurnSample(\n",
    "    user_input=\"Where is the Eiffel Tower located?\",\n",
    "    reference=\"The Eiffel Tower is located in Paris.\",\n",
    "    retrieved_contexts=[\"Paris is the capital of France.\"],\n",
    ")"
   ]
  },
  {
   "cell_type": "code",
   "execution_count": 32,
   "id": "bea5e408",
   "metadata": {},
   "outputs": [],
   "source": [
    "context_recall = LLMContextRecall(llm=llm_as_judge)"
   ]
  },
  {
   "cell_type": "code",
   "execution_count": 33,
   "id": "6e75a96a",
   "metadata": {},
   "outputs": [
    {
     "data": {
      "text/plain": [
       "1.0"
      ]
     },
     "execution_count": 33,
     "metadata": {},
     "output_type": "execute_result"
    }
   ],
   "source": [
    "await context_recall.single_turn_ascore(sample)"
   ]
  },
  {
   "cell_type": "markdown",
   "id": "74d3362b",
   "metadata": {},
   "source": [
    "## 3. Response relevance"
   ]
  },
  {
   "cell_type": "code",
   "execution_count": 76,
   "id": "85b477bc",
   "metadata": {},
   "outputs": [],
   "source": [
    "sample = SingleTurnSample(\n",
    "        user_input=\"When was the first super bowl?\",\n",
    "        response=\"The first superbowl was held on Jan 15, 1967\",\n",
    "    )"
   ]
  },
  {
   "cell_type": "code",
   "execution_count": 77,
   "id": "c609695a",
   "metadata": {},
   "outputs": [],
   "source": [
    "scorer = ResponseRelevancy(llm=llm_as_judge, embeddings=embeddings)"
   ]
  },
  {
   "cell_type": "code",
   "execution_count": 78,
   "id": "d5e7f805",
   "metadata": {},
   "outputs": [],
   "source": [
    "response_relevance_score = await scorer.single_turn_ascore(sample)"
   ]
  },
  {
   "cell_type": "code",
   "execution_count": 79,
   "id": "2c867d02",
   "metadata": {},
   "outputs": [
    {
     "name": "stdout",
     "output_type": "stream",
     "text": [
      "0.8808327374424308\n"
     ]
    }
   ],
   "source": [
    "print(response_relevance_score)"
   ]
  },
  {
   "cell_type": "markdown",
   "id": "5d48b6be",
   "metadata": {},
   "source": [
    "## 4. Faithfulness"
   ]
  },
  {
   "cell_type": "code",
   "execution_count": 82,
   "id": "1ca7f4c7",
   "metadata": {},
   "outputs": [],
   "source": [
    "sample = SingleTurnSample(\n",
    "    user_input=\"When was the first super bowl?\",\n",
    "    response=\"The first superbowl was held on Jan 15, 1967\",\n",
    "    retrieved_contexts=[\n",
    "        \"The First AFL–NFL World Championship Game was an American football game played on January 15, 1967, at the Los Angeles Memorial Coliseum in Los Angeles.\"\n",
    "    ],\n",
    ")"
   ]
  },
  {
   "cell_type": "code",
   "execution_count": 83,
   "id": "03be1996",
   "metadata": {},
   "outputs": [],
   "source": [
    "scorer = Faithfulness(llm=llm_as_judge)"
   ]
  },
  {
   "cell_type": "code",
   "execution_count": 84,
   "id": "5bff9df4",
   "metadata": {},
   "outputs": [],
   "source": [
    "faithfulness_score = await scorer.single_turn_ascore(sample)"
   ]
  },
  {
   "cell_type": "code",
   "execution_count": 85,
   "id": "f89e5658",
   "metadata": {},
   "outputs": [
    {
     "name": "stdout",
     "output_type": "stream",
     "text": [
      "1.0\n"
     ]
    }
   ],
   "source": [
    "print(faithfulness_score)"
   ]
  },
  {
   "cell_type": "markdown",
   "id": "6a7b3587",
   "metadata": {},
   "source": [
    "## 5. Factual Correctness"
   ]
  },
  {
   "cell_type": "code",
   "execution_count": 87,
   "id": "9e7847f1",
   "metadata": {},
   "outputs": [],
   "source": [
    "sample = SingleTurnSample(\n",
    "    response=\"The Eiffel Tower is located in Paris.\",\n",
    "    reference=\"The Eiffel Tower is located in Paris. I has a height of 1000ft.\"\n",
    ")"
   ]
  },
  {
   "cell_type": "code",
   "execution_count": 88,
   "id": "1db51de2",
   "metadata": {},
   "outputs": [],
   "source": [
    "factual_scorer = FactualCorrectness(llm=llm_as_judge)"
   ]
  },
  {
   "cell_type": "code",
   "execution_count": 89,
   "id": "95f22491",
   "metadata": {},
   "outputs": [],
   "source": [
    "factual_score = await factual_scorer.single_turn_ascore(sample)"
   ]
  },
  {
   "cell_type": "code",
   "execution_count": 90,
   "id": "9a05776d",
   "metadata": {},
   "outputs": [
    {
     "name": "stdout",
     "output_type": "stream",
     "text": [
      "0.67\n"
     ]
    }
   ],
   "source": [
    "print(factual_score)"
   ]
  },
  {
   "cell_type": "code",
   "execution_count": null,
   "id": "5ee65073",
   "metadata": {},
   "outputs": [],
   "source": []
  },
  {
   "cell_type": "markdown",
   "id": "23377782",
   "metadata": {},
   "source": [
    "# Summary of metrics\n",
    "\n",
    "TODO Insert table"
   ]
  }
 ],
 "metadata": {
  "kernelspec": {
   "display_name": "ragas_eval",
   "language": "python",
   "name": "python3"
  },
  "language_info": {
   "codemirror_mode": {
    "name": "ipython",
    "version": 3
   },
   "file_extension": ".py",
   "mimetype": "text/x-python",
   "name": "python",
   "nbconvert_exporter": "python",
   "pygments_lexer": "ipython3",
   "version": "3.12.11"
  }
 },
 "nbformat": 4,
 "nbformat_minor": 5
}

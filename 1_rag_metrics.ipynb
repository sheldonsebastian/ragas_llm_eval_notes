{
 "cells": [
  {
   "cell_type": "markdown",
   "id": "5cfb6ce9",
   "metadata": {},
   "source": [
    "- Why we need LLM eval and not traditional software testing?\n",
    "- Using LLMs as judge\n",
    "- Evaluating every piece of RAG\n",
    "- Go over each evaluation metric\n",
    "    - +ve example\n",
    "    - -ve example\n",
    "    - code snippets"
   ]
  },
  {
   "cell_type": "markdown",
   "id": "7e556b65",
   "metadata": {},
   "source": [
    "# Background"
   ]
  },
  {
   "cell_type": "markdown",
   "id": "5f7e5923",
   "metadata": {},
   "source": [
    "<image src=\"assets/Evaluation.png\">"
   ]
  },
  {
   "cell_type": "markdown",
   "id": "613252f3",
   "metadata": {},
   "source": [
    "# Code implementation"
   ]
  },
  {
   "cell_type": "code",
   "execution_count": 1,
   "id": "4e04b754",
   "metadata": {},
   "outputs": [
    {
     "name": "stdout",
     "output_type": "stream",
     "text": [
      "Hello\n"
     ]
    }
   ],
   "source": [
    "print(\"Hello\")"
   ]
  },
  {
   "cell_type": "code",
   "execution_count": null,
   "id": "09dfcec1",
   "metadata": {},
   "outputs": [],
   "source": []
  }
 ],
 "metadata": {
  "kernelspec": {
   "display_name": "ragas_eval",
   "language": "python",
   "name": "python3"
  },
  "language_info": {
   "codemirror_mode": {
    "name": "ipython",
    "version": 3
   },
   "file_extension": ".py",
   "mimetype": "text/x-python",
   "name": "python",
   "nbconvert_exporter": "python",
   "pygments_lexer": "ipython3",
   "version": "3.12.11"
  }
 },
 "nbformat": 4,
 "nbformat_minor": 5
}

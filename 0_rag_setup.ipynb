{
 "cells": [
  {
   "cell_type": "markdown",
   "id": "0671209b",
   "metadata": {},
   "source": [
    "- Chatbots that know your data\n",
    "- Setup RAG using \"data_files\" folder and chromaDB\n",
    "- Use RAG"
   ]
  },
  {
   "cell_type": "markdown",
   "id": "781843ad",
   "metadata": {},
   "source": []
  }
 ],
 "metadata": {
  "language_info": {
   "name": "python"
  }
 },
 "nbformat": 4,
 "nbformat_minor": 5
}

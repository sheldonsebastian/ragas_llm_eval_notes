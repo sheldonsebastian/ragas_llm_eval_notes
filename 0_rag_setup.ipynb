{
 "cells": [
  {
   "cell_type": "markdown",
   "id": "baa42f3a",
   "metadata": {},
   "source": [
    "This notebook introduces Retrieval Augmented Generation (RAG) and demonstrates how to set up, ingest data into, and retrieve information from a vector database."
   ]
  },
  {
   "cell_type": "markdown",
   "id": "9180f528",
   "metadata": {},
   "source": [
    "# Chatbots that know your data"
   ]
  },
  {
   "cell_type": "markdown",
   "id": "30ac5dbc",
   "metadata": {},
   "source": [
    "Insert image of RAG"
   ]
  },
  {
   "cell_type": "markdown",
   "id": "55b92633",
   "metadata": {},
   "source": [
    "# Ingest into database"
   ]
  },
  {
   "cell_type": "code",
   "execution_count": 12,
   "id": "bf35eab9",
   "metadata": {},
   "outputs": [],
   "source": [
    "from langchain_community.document_loaders import DirectoryLoader\n",
    "from langchain.text_splitter import RecursiveCharacterTextSplitter\n",
    "from langchain_chroma import Chroma\n",
    "from langchain_openai import OpenAIEmbeddings\n",
    "from dotenv import load_dotenv\n",
    "from langchain.chains import RetrievalQA\n",
    "from langchain_openai import ChatOpenAI"
   ]
  },
  {
   "cell_type": "code",
   "execution_count": 2,
   "id": "0220e4c7",
   "metadata": {},
   "outputs": [
    {
     "data": {
      "text/plain": [
       "True"
      ]
     },
     "execution_count": 2,
     "metadata": {},
     "output_type": "execute_result"
    }
   ],
   "source": [
    "load_dotenv(\"configs.env\")"
   ]
  },
  {
   "cell_type": "code",
   "execution_count": 3,
   "id": "dd1e63ca",
   "metadata": {},
   "outputs": [],
   "source": [
    "# Folder with your .txt files\n",
    "SOURCE_DIR = \"data_files\"\n",
    "# Persistent vector database directory\n",
    "DB_DIR = \"vector_db\""
   ]
  },
  {
   "cell_type": "code",
   "execution_count": 4,
   "id": "a2d829ef",
   "metadata": {},
   "outputs": [
    {
     "name": "stderr",
     "output_type": "stream",
     "text": [
      "  0%|          | 0/5 [00:00<?, ?it/s]libmagic is unavailable but assists in filetype detection. Please consider installing libmagic for better results.\n",
      " 20%|██        | 1/5 [00:01<00:05,  1.28s/it]libmagic is unavailable but assists in filetype detection. Please consider installing libmagic for better results.\n",
      " 40%|████      | 2/5 [00:01<00:02,  1.31it/s]libmagic is unavailable but assists in filetype detection. Please consider installing libmagic for better results.\n",
      " 60%|██████    | 3/5 [00:01<00:00,  2.16it/s]libmagic is unavailable but assists in filetype detection. Please consider installing libmagic for better results.\n",
      " 80%|████████  | 4/5 [00:02<00:00,  2.18it/s]libmagic is unavailable but assists in filetype detection. Please consider installing libmagic for better results.\n",
      "100%|██████████| 5/5 [00:02<00:00,  1.90it/s]\n"
     ]
    }
   ],
   "source": [
    "loader = DirectoryLoader(SOURCE_DIR, glob=\"**/*.txt\", show_progress=True)\n",
    "docs = loader.load()"
   ]
  },
  {
   "cell_type": "code",
   "execution_count": 5,
   "id": "bdfeca37",
   "metadata": {},
   "outputs": [
    {
     "name": "stdout",
     "output_type": "stream",
     "text": [
      "5 txt files loaded successfully.\n"
     ]
    }
   ],
   "source": [
    "print(f\"{len(docs)} txt files loaded successfully.\")"
   ]
  },
  {
   "cell_type": "code",
   "execution_count": 6,
   "id": "8bcf5d5a",
   "metadata": {},
   "outputs": [],
   "source": [
    "# split each book into smaller chunks\n",
    "splitter = RecursiveCharacterTextSplitter(chunk_size=1000, chunk_overlap=200)\n",
    "chunks = splitter.split_documents(docs)"
   ]
  },
  {
   "cell_type": "code",
   "execution_count": 7,
   "id": "5edca90c",
   "metadata": {},
   "outputs": [
    {
     "name": "stdout",
     "output_type": "stream",
     "text": [
      "3676 chunks created successfully.\n"
     ]
    }
   ],
   "source": [
    "print(f\"{len(chunks)} chunks created successfully.\")"
   ]
  },
  {
   "cell_type": "code",
   "execution_count": 8,
   "id": "695b0098",
   "metadata": {},
   "outputs": [
    {
     "name": "stdout",
     "output_type": "stream",
     "text": [
      "✅ Ingestion complete. Persistent DB stored at: vector_db\n"
     ]
    }
   ],
   "source": [
    "vectorstore = Chroma.from_documents(\n",
    "    documents=chunks,\n",
    "    embedding=OpenAIEmbeddings(model=\"text-embedding-3-large\"),\n",
    "    persist_directory=DB_DIR,\n",
    ")\n",
    "print(f\"✅ Ingestion complete. Persistent DB stored at: {DB_DIR}\")"
   ]
  },
  {
   "cell_type": "markdown",
   "id": "2763c72a",
   "metadata": {},
   "source": [
    "# Fetch from database"
   ]
  },
  {
   "cell_type": "code",
   "execution_count": 9,
   "id": "d7d75721",
   "metadata": {},
   "outputs": [],
   "source": [
    "# === Load persistent vector DB ===\n",
    "vectordb = Chroma(\n",
    "    persist_directory=DB_DIR,\n",
    "    embedding_function=OpenAIEmbeddings(model=\"text-embedding-3-large\"),\n",
    ")"
   ]
  },
  {
   "cell_type": "code",
   "execution_count": 10,
   "id": "adf3457d",
   "metadata": {},
   "outputs": [],
   "source": [
    "# retrieval using chromaDB\n",
    "query = \"Who is Irene Adler?\""
   ]
  },
  {
   "cell_type": "code",
   "execution_count": null,
   "id": "e9354277",
   "metadata": {},
   "outputs": [],
   "source": [
    "# fetch top 3 most similar chunks\n",
    "results = vectordb.similarity_search(query, k=3)"
   ]
  },
  {
   "cell_type": "code",
   "execution_count": 22,
   "id": "47b485f0",
   "metadata": {},
   "outputs": [
    {
     "name": "stdout",
     "output_type": "stream",
     "text": [
      "\n",
      "-------------------Result 1-------------------:\n",
      "Source: data_files/The Adventures of Sherlock Holmes.txt\n",
      "“And what of Irene Adler?” I asked.\n",
      "\n",
      "“Oh, she has turned all the men’s heads down in that part. She is the daintiest thing under a bonnet on this planet. So say the Serpentine-mews, to a man. She lives quietly, sings at concerts, drives out at five every day, and returns at seven sharp for dinner. Seldom goes out at other times, except when she sings. Has only one male visitor, but a good deal of him. He is dark, handsome, and dashing, never calls less than once a day, and often twice. He is a Mr. Godfrey Norton, of the Inner Temple. See the advantages of a cabman as a confidant. They had driven him home a dozen times from Serpentine-mews, and knew all about him. When I had listened to all they had to tell, I began to walk up and down near Briony Lodge once more, and to think over my plan of campaign.\n",
      "\n",
      "-------------------Result 2-------------------:\n",
      "Source: data_files/The Adventures of Sherlock Holmes.txt\n",
      "“Then, pray consult,” said Holmes, shutting his eyes once more.\n",
      "\n",
      "“The facts are briefly these: Some five years ago, during a lengthy visit to Warsaw, I made the acquaintance of the well-known adventuress, Irene Adler. The name is no doubt familiar to you.”\n",
      "\n",
      "“Kindly look her up in my index, Doctor,” murmured Holmes without opening his eyes. For many years he had adopted a system of docketing all paragraphs concerning men and things, so that it was difficult to name a subject or a person on which he could not at once furnish information. In this case I found her biography sandwiched in between that of a Hebrew rabbi and that of a staff-commander who had written a monograph upon the deep-sea fishes.\n",
      "\n",
      "-------------------Result 3-------------------:\n",
      "Source: data_files/The Adventures of Sherlock Holmes.txt\n",
      "“Irene Adler is married,” remarked Holmes.\n",
      "\n",
      "“Married! When?”\n",
      "\n",
      "“Yesterday.”\n",
      "\n",
      "“But to whom?”\n",
      "\n",
      "“To an English lawyer named Norton.”\n",
      "\n",
      "“But she could not love him.”\n",
      "\n",
      "“I am in hopes that she does.”\n",
      "\n",
      "“And why in hopes?”\n",
      "\n",
      "“Because it would spare your Majesty all fear of future annoyance. If the lady loves her husband, she does not love your Majesty. If she does not love your Majesty, there is no reason why she should interfere with your Majesty’s plan.”\n",
      "\n",
      "“It is true. And yet—! Well! I wish she had been of my own station! What a queen she would have made!” He relapsed into a moody silence, which was not broken until we drew up in Serpentine Avenue.\n",
      "\n",
      "The door of Briony Lodge was open, and an elderly woman stood upon the steps. She watched us with a sardonic eye as we stepped from the brougham.\n",
      "\n",
      "“Mr. Sherlock Holmes, I believe?” said she.\n",
      "\n",
      "“I am Mr. Holmes,” answered my companion, looking at her with a questioning and rather startled gaze.\n"
     ]
    }
   ],
   "source": [
    "for i, doc in enumerate(results, 1):\n",
    "    print(f\"\\n-------------------Result {i}-------------------:\")\n",
    "    print(f\"Source: {doc.metadata.get('source', 'unknown')}\")\n",
    "    print(doc.page_content)"
   ]
  },
  {
   "cell_type": "markdown",
   "id": "ddc6f46b",
   "metadata": {},
   "source": [
    "# Generate LLM response"
   ]
  },
  {
   "cell_type": "code",
   "execution_count": 13,
   "id": "792d5196",
   "metadata": {},
   "outputs": [],
   "source": [
    "query = \"Who is Irene Adler?\""
   ]
  },
  {
   "cell_type": "code",
   "execution_count": 23,
   "id": "8fe350c2",
   "metadata": {},
   "outputs": [],
   "source": [
    "# Set up the LLM and RetrievalQA chain\n",
    "llm = ChatOpenAI(model=\"gpt-4o-mini\", temperature=0)\n",
    "qa_chain = RetrievalQA.from_chain_type(\n",
    "    llm=llm,\n",
    "    chain_type=\"stuff\",\n",
    "    retriever=vectordb.as_retriever(),\n",
    "    return_source_documents=True,\n",
    ")"
   ]
  },
  {
   "cell_type": "code",
   "execution_count": 24,
   "id": "8760582a",
   "metadata": {},
   "outputs": [],
   "source": [
    "response = qa_chain.invoke(query)"
   ]
  },
  {
   "cell_type": "code",
   "execution_count": 25,
   "id": "f863d495",
   "metadata": {},
   "outputs": [
    {
     "data": {
      "text/plain": [
       "{'query': 'Who is Irene Adler?',\n",
       " 'result': 'Irene Adler is a character from Arthur Conan Doyle\\'s Sherlock Holmes stories. She is known as \"the woman\" to Sherlock Holmes, who regards her as a significant figure in his life. Adler is described as a beautiful and clever woman, an adventuress who has captured the attention of many men, including a king. In the story, she is married to an English lawyer named Godfrey Norton. Holmes admires her intelligence and resourcefulness, and she plays a crucial role in one of his most famous cases, \"A Scandal in Bohemia.\"',\n",
       " 'source_documents': [Document(id='cbb48401-0de1-42f1-a6c5-5600404f1aa7', metadata={'source': 'data_files/The Adventures of Sherlock Holmes.txt'}, page_content='“And what of Irene Adler?” I asked.\\n\\n“Oh, she has turned all the men’s heads down in that part. She is the daintiest thing under a bonnet on this planet. So say the Serpentine-mews, to a man. She lives quietly, sings at concerts, drives out at five every day, and returns at seven sharp for dinner. Seldom goes out at other times, except when she sings. Has only one male visitor, but a good deal of him. He is dark, handsome, and dashing, never calls less than once a day, and often twice. He is a Mr. Godfrey Norton, of the Inner Temple. See the advantages of a cabman as a confidant. They had driven him home a dozen times from Serpentine-mews, and knew all about him. When I had listened to all they had to tell, I began to walk up and down near Briony Lodge once more, and to think over my plan of campaign.'),\n",
       "  Document(id='e2314fe3-4e6a-449e-861c-0343ce653b8c', metadata={'source': 'data_files/The Adventures of Sherlock Holmes.txt'}, page_content='“Then, pray consult,” said Holmes, shutting his eyes once more.\\n\\n“The facts are briefly these: Some five years ago, during a lengthy visit to Warsaw, I made the acquaintance of the well-known adventuress, Irene Adler. The name is no doubt familiar to you.”\\n\\n“Kindly look her up in my index, Doctor,” murmured Holmes without opening his eyes. For many years he had adopted a system of docketing all paragraphs concerning men and things, so that it was difficult to name a subject or a person on which he could not at once furnish information. In this case I found her biography sandwiched in between that of a Hebrew rabbi and that of a staff-commander who had written a monograph upon the deep-sea fishes.'),\n",
       "  Document(id='8523fc55-97f7-4c96-a590-1b809817e69e', metadata={'source': 'data_files/The Adventures of Sherlock Holmes.txt'}, page_content='“Irene Adler is married,” remarked Holmes.\\n\\n“Married! When?”\\n\\n“Yesterday.”\\n\\n“But to whom?”\\n\\n“To an English lawyer named Norton.”\\n\\n“But she could not love him.”\\n\\n“I am in hopes that she does.”\\n\\n“And why in hopes?”\\n\\n“Because it would spare your Majesty all fear of future annoyance. If the lady loves her husband, she does not love your Majesty. If she does not love your Majesty, there is no reason why she should interfere with your Majesty’s plan.”\\n\\n“It is true. And yet—! Well! I wish she had been of my own station! What a queen she would have made!” He relapsed into a moody silence, which was not broken until we drew up in Serpentine Avenue.\\n\\nThe door of Briony Lodge was open, and an elderly woman stood upon the steps. She watched us with a sardonic eye as we stepped from the brougham.\\n\\n“Mr. Sherlock Holmes, I believe?” said she.\\n\\n“I am Mr. Holmes,” answered my companion, looking at her with a questioning and rather startled gaze.'),\n",
       "  Document(id='b4f943aa-22b0-4561-a711-f9af977379ac', metadata={'source': 'data_files/The Adventures of Sherlock Holmes.txt'}, page_content='To Sherlock Holmes she is always _the_ woman. I have seldom heard him mention her under any other name. In his eyes she eclipses and predominates the whole of her sex. It was not that he felt any emotion akin to love for Irene Adler. All emotions, and that one particularly, were abhorrent to his cold, precise but admirably balanced mind. He was, I take it, the most perfect reasoning and observing machine that the world has seen, but as a lover he would have placed himself in a false position. He never spoke of the softer passions, save with a gibe and a sneer. They were admirable things for the observer—excellent for drawing the veil from men’s motives and actions. But for the trained reasoner to admit such intrusions into his own delicate and finely adjusted temperament was to introduce a distracting factor which might throw a doubt upon all his mental results. Grit in a sensitive instrument, or a crack in one of his own high-power lenses, would not be more disturbing than a strong')]}"
      ]
     },
     "execution_count": 25,
     "metadata": {},
     "output_type": "execute_result"
    }
   ],
   "source": [
    "response"
   ]
  },
  {
   "cell_type": "code",
   "execution_count": 21,
   "id": "9b62c587",
   "metadata": {},
   "outputs": [
    {
     "name": "stdout",
     "output_type": "stream",
     "text": [
      "# User Query:\n",
      " Who is Irene Adler?\n",
      "\n",
      "# LLM Response:\n",
      " Irene Adler is a character from Arthur Conan Doyle's Sherlock Holmes stories. She is known as \"the woman\" to Sherlock Holmes, who regards her as a significant figure in his life. Adler is described as a beautiful and clever woman, an adventuress who has captured the attention of many men, including a king. In the story, she is married to an English lawyer named Godfrey Norton. Holmes admires her intelligence and resourcefulness, and she plays a crucial role in one of his most famous cases, \"A Scandal in Bohemia.\"\n"
     ]
    }
   ],
   "source": [
    "print(\"# User Query:\\n\", response[\"query\"])\n",
    "print(\"\\n# LLM Response:\\n\", response[\"result\"])"
   ]
  },
  {
   "cell_type": "code",
   "execution_count": null,
   "id": "0ce425f7",
   "metadata": {},
   "outputs": [],
   "source": []
  }
 ],
 "metadata": {
  "kernelspec": {
   "display_name": "ragas_eval",
   "language": "python",
   "name": "python3"
  },
  "language_info": {
   "codemirror_mode": {
    "name": "ipython",
    "version": 3
   },
   "file_extension": ".py",
   "mimetype": "text/x-python",
   "name": "python",
   "nbconvert_exporter": "python",
   "pygments_lexer": "ipython3",
   "version": "3.12.11"
  }
 },
 "nbformat": 4,
 "nbformat_minor": 5
}
